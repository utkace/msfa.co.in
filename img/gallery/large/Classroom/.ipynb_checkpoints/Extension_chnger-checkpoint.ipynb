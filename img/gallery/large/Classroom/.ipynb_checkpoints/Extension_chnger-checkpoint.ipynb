{
 "cells": [
  {
   "cell_type": "code",
   "execution_count": 20,
   "metadata": {},
   "outputs": [
    {
     "name": "stdout",
     "output_type": "stream",
     "text": [
      "['.ipynb_checkpoints', 'Classroom (1).jpg', 'Classroom (108).jpg', 'Classroom (109).jpg', 'Classroom (110).jpg', 'Classroom (111).jpg', 'Classroom (112).jpg', 'Classroom (113).jpg', 'Classroom (114).jpg', 'Classroom (115).jpg', 'Classroom (116).jpg', 'Classroom (117).jpg', 'Classroom (118).jpg', 'Classroom (119).jpg', 'Classroom (120).jpg', 'Classroom (121).jpg', 'Classroom (122).jpg', 'Classroom (123).jpg', 'Classroom (124).jpg', 'Classroom (125).jpg', 'Classroom (126).jpg', 'Classroom (127).jpg', 'Classroom (128).jpg', 'Classroom (129).jpg', 'Classroom (130).jpg', 'Classroom (131).jpg', 'Classroom (132).jpg', 'Classroom (133).jpg', 'Classroom (134).jpg', 'Classroom (135).jpg', 'Classroom (136).jpg', 'Classroom (137).jpg', 'Classroom (138).jpg', 'Classroom (139).jpg', 'Classroom (140).jpg', 'Classroom (141).jpg', 'Classroom (142).jpg', 'Classroom (143).jpg', 'Classroom (144).jpg', 'Classroom (145).jpg', 'Classroom (146).jpg', 'Classroom (147).jpg', 'Classroom (148).jpg', 'Classroom (149).jpg', 'Classroom (150).jpg', 'Classroom (151).jpg', 'Classroom (152).jpg', 'Classroom (153).jpg', 'Classroom (154).jpg', 'Classroom (155).jpg', 'Classroom (156).jpg', 'Classroom (157).jpg', 'Classroom (158).jpg', 'Classroom (159).jpg', 'Classroom (160).jpg', 'Classroom (161).jpg', 'Classroom (162).jpg', 'Classroom (163).jpg', 'Classroom (164).jpg', 'Classroom (165).jpg', 'Classroom (166).jpg', 'Classroom (167).jpg', 'Classroom (168).jpg', 'Classroom (169).jpg', 'Classroom (170).jpg', 'Classroom (171).jpg', 'Classroom (172).jpg', 'Classroom (173).jpg', 'Classroom (174).jpg', 'Classroom (175).jpg', 'Classroom (176).jpg', 'Classroom (177).jpg', 'Classroom (178).jpg', 'Classroom (179).jpg', 'Classroom (180).jpg', 'Classroom (181).jpg', 'Classroom (182).jpg', 'Classroom (183).jpg', 'Classroom (184).jpg', 'Classroom (185).jpg', 'Classroom (186).jpg', 'Classroom (187).jpg', 'Classroom (188).jpg', 'Classroom (189).jpg', 'Classroom (190).jpg', 'Classroom (191).jpg', 'Classroom (192).jpg', 'Classroom (193).jpg', 'Classroom (194).jpg', 'Classroom (195).jpg', 'Classroom (196).jpg', 'Classroom (197).jpg', 'Classroom (198).jpg', 'Classroom (199).jpg', 'Classroom (200).jpg', 'Classroom (201).jpg', 'Classroom (202).jpg', 'Classroom (203).jpg', 'Classroom (204).jpg', 'Classroom (205).jpg', 'Classroom (206).jpg', 'Classroom (207).jpg', 'Classroom (208).jpg', 'Classroom (209).jpg', 'Classroom (210).jpg', 'Classroom (211).jpg', 'Classroom (212).jpg', 'Classroom (213).jpg', 'Extension_chnger.ipynb']\n"
     ]
    }
   ],
   "source": [
    "import os, sys\n",
    "files = os.listdir()\n",
    "for file in files:\n",
    "    if(file.rfind('JPG')>0):\n",
    "        #file = file.replace('JPG','jpg')\n",
    "        os.rename(file.replace('JPG','jpg'),file)\n",
    "print(files)\n"
   ]
  },
  {
   "cell_type": "code",
   "execution_count": null,
   "metadata": {},
   "outputs": [],
   "source": []
  }
 ],
 "metadata": {
  "kernelspec": {
   "display_name": "Python 3",
   "language": "python",
   "name": "python3"
  },
  "language_info": {
   "codemirror_mode": {
    "name": "ipython",
    "version": 3
   },
   "file_extension": ".py",
   "mimetype": "text/x-python",
   "name": "python",
   "nbconvert_exporter": "python",
   "pygments_lexer": "ipython3",
   "version": "3.6.4"
  }
 },
 "nbformat": 4,
 "nbformat_minor": 2
}
