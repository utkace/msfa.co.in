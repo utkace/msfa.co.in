{
 "cells": [
  {
   "cell_type": "code",
   "execution_count": 27,
   "metadata": {},
   "outputs": [
    {
     "name": "stdout",
     "output_type": "stream",
     "text": [
      "['.ipynb_checkpoints', 'Classroom (1).JPG', 'Classroom (108).JPG', 'Classroom (109).JPG', 'Classroom (110).JPG', 'Classroom (111).JPG', 'Classroom (112).JPG', 'Classroom (113).JPG', 'Classroom (114).JPG', 'Classroom (115).JPG', 'Classroom (116).JPG', 'Classroom (117).JPG', 'Classroom (118).JPG', 'Classroom (119).JPG', 'Classroom (120).JPG', 'Classroom (121).JPG', 'Classroom (122).JPG', 'Classroom (123).JPG', 'Classroom (124).JPG', 'Classroom (125).JPG', 'Classroom (126).JPG', 'Classroom (127).JPG', 'Classroom (128).JPG', 'Classroom (129).JPG', 'Classroom (130).JPG', 'Classroom (131).JPG', 'Classroom (132).JPG', 'Classroom (133).JPG', 'Classroom (134).JPG', 'Classroom (135).JPG', 'Classroom (136).JPG', 'Classroom (137).JPG', 'Classroom (138).JPG', 'Classroom (139).JPG', 'Classroom (140).JPG', 'Classroom (141).JPG', 'Classroom (142).JPG', 'Classroom (143).JPG', 'Classroom (144).JPG', 'Classroom (145).JPG', 'Classroom (146).JPG', 'Classroom (147).JPG', 'Classroom (148).JPG', 'Classroom (149).JPG', 'Classroom (150).JPG', 'Classroom (151).JPG', 'Classroom (152).JPG', 'Classroom (153).JPG', 'Classroom (154).JPG', 'Classroom (155).JPG', 'Classroom (156).JPG', 'Classroom (157).JPG', 'Classroom (158).JPG', 'Classroom (159).JPG', 'Classroom (160).JPG', 'Classroom (161).JPG', 'Classroom (162).JPG', 'Classroom (163).JPG', 'Classroom (164).JPG', 'Classroom (165).JPG', 'Classroom (166).JPG', 'Classroom (167).JPG', 'Classroom (168).JPG', 'Classroom (169).JPG', 'Classroom (170).JPG', 'Classroom (171).JPG', 'Classroom (172).JPG', 'Classroom (173).JPG', 'Classroom (174).JPG', 'Classroom (175).JPG', 'Classroom (176).JPG', 'Classroom (177).JPG', 'Classroom (178).JPG', 'Classroom (179).JPG', 'Classroom (180).JPG', 'Classroom (181).JPG', 'Classroom (182).JPG', 'Classroom (183).JPG', 'Classroom (184).JPG', 'Classroom (185).JPG', 'Classroom (186).JPG', 'Classroom (187).JPG', 'Classroom (188).JPG', 'Classroom (189).JPG', 'Classroom (190).JPG', 'Classroom (191).JPG', 'Classroom (192).JPG', 'Classroom (193).JPG', 'Classroom (194).JPG', 'Classroom (195).JPG', 'Classroom (196).JPG', 'Classroom (197).JPG', 'Classroom (198).JPG', 'Classroom (199).JPG', 'Classroom (200).JPG', 'Classroom (201).JPG', 'Classroom (202).JPG', 'Classroom (203).JPG', 'Classroom (204).JPG', 'Classroom (205).JPG', 'Classroom (206).JPG', 'Classroom (207).JPG', 'Classroom (208).JPG', 'Classroom (209).JPG', 'Classroom (210).JPG', 'Classroom (211).JPG', 'Classroom (212).JPG', 'Classroom (213).JPG', 'Extension_chnger.ipynb']\n"
     ]
    }
   ],
   "source": [
    "import os, sys\n",
    "files = os.listdir()\n",
    "for file in files:\n",
    "    if(file.rfind('JPG')>0):\n",
    "        #file = file.replace('JPG','jpg')\n",
    "        nn = file.replace('JPG','j')\n",
    "        os.rename(file,nn)\n",
    "print(files)\n"
   ]
  },
  {
   "cell_type": "code",
   "execution_count": null,
   "metadata": {},
   "outputs": [],
   "source": []
  }
 ],
 "metadata": {
  "kernelspec": {
   "display_name": "Python 3",
   "language": "python",
   "name": "python3"
  },
  "language_info": {
   "codemirror_mode": {
    "name": "ipython",
    "version": 3
   },
   "file_extension": ".py",
   "mimetype": "text/x-python",
   "name": "python",
   "nbconvert_exporter": "python",
   "pygments_lexer": "ipython3",
   "version": "3.6.4"
  }
 },
 "nbformat": 4,
 "nbformat_minor": 2
}
