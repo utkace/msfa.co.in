{
 "cells": [
  {
   "cell_type": "code",
   "execution_count": 28,
   "metadata": {},
   "outputs": [
    {
     "name": "stdout",
     "output_type": "stream",
     "text": [
      "['.ipynb_checkpoints', 'Classroom (1).jpg', 'Classroom (10).jpg', 'Classroom (100).jpg', 'Classroom (101).jpg', 'Classroom (102).jpg', 'Classroom (103).jpg', 'Classroom (104).jpg', 'Classroom (105).jpg', 'Classroom (106).jpg', 'Classroom (107).jpg', 'Classroom (11).jpg', 'Classroom (12).jpg', 'Classroom (13).jpg', 'Classroom (14).jpg', 'Classroom (15).jpg', 'Classroom (16).jpg', 'Classroom (17).jpg', 'Classroom (18).jpg', 'Classroom (19).jpg', 'Classroom (2).jpg', 'Classroom (20).jpg', 'Classroom (21).jpg', 'Classroom (22).jpg', 'Classroom (23).jpg', 'Classroom (24).jpg', 'Classroom (25).jpg', 'Classroom (26).jpg', 'Classroom (27).jpg', 'Classroom (28).jpg', 'Classroom (29).jpg', 'Classroom (3).jpg', 'Classroom (30).jpg', 'Classroom (31).jpg', 'Classroom (32).jpg', 'Classroom (33).jpg', 'Classroom (34).jpg', 'Classroom (35).jpg', 'Classroom (36).jpg', 'Classroom (37).jpg', 'Classroom (38).jpg', 'Classroom (39).jpg', 'Classroom (4).jpg', 'Classroom (40).jpg', 'Classroom (41).jpg', 'Classroom (42).jpg', 'Classroom (43).jpg', 'Classroom (44).jpg', 'Classroom (45).jpg', 'Classroom (46).jpg', 'Classroom (47).jpg', 'Classroom (48).jpg', 'Classroom (49).jpg', 'Classroom (5).jpg', 'Classroom (50).jpg', 'Classroom (51).jpg', 'Classroom (52).jpg', 'Classroom (53).jpg', 'Classroom (54).jpg', 'Classroom (55).jpg', 'Classroom (56).jpg', 'Classroom (57).jpg', 'Classroom (58).jpg', 'Classroom (59).jpg', 'Classroom (6).jpg', 'Classroom (60).jpg', 'Classroom (61).jpg', 'Classroom (62).jpg', 'Classroom (63).jpg', 'Classroom (64).jpg', 'Classroom (65).jpg', 'Classroom (66).jpg', 'Classroom (67).jpg', 'Classroom (68).jpg', 'Classroom (69).jpg', 'Classroom (7).jpg', 'Classroom (70).jpg', 'Classroom (71).jpg', 'Classroom (72).jpg', 'Classroom (73).jpg', 'Classroom (74).jpg', 'Classroom (75).jpg', 'Classroom (76).jpg', 'Classroom (77).jpg', 'Classroom (78).jpg', 'Classroom (79).jpg', 'Classroom (8).jpg', 'Classroom (80).jpg', 'Classroom (81).jpg', 'Classroom (82).jpg', 'Classroom (83).jpg', 'Classroom (84).jpg', 'Classroom (85).jpg', 'Classroom (86).jpg', 'Classroom (87).jpg', 'Classroom (88).jpg', 'Classroom (89).jpg', 'Classroom (9).jpg', 'Classroom (90).jpg', 'Classroom (91).jpg', 'Classroom (92).jpg', 'Classroom (93).jpg', 'Classroom (94).jpg', 'Classroom (95).jpg', 'Classroom (96).jpg', 'Classroom (97).jpg', 'Classroom (98).jpg', 'Classroom (99).jpg', 'Extension_chnger.ipynb']\n"
     ]
    }
   ],
   "source": [
    "import os\n",
    "files = os.listdir()\n",
    "for file in files:\n",
    "    if(file.rfind('JPG')>0):\n",
    "        nn = file.replace('JPG','jpg')\n",
    "        os.rename(file,nn)\n",
    "print(files)\n",
    "\n"
   ]
  },
  {
   "cell_type": "code",
   "execution_count": null,
   "metadata": {},
   "outputs": [],
   "source": []
  },
  {
   "cell_type": "code",
   "execution_count": null,
   "metadata": {},
   "outputs": [],
   "source": []
  },
  {
   "cell_type": "code",
   "execution_count": null,
   "metadata": {},
   "outputs": [],
   "source": []
  }
 ],
 "metadata": {
  "kernelspec": {
   "display_name": "Python 3",
   "language": "python",
   "name": "python3"
  },
  "language_info": {
   "codemirror_mode": {
    "name": "ipython",
    "version": 3
   },
   "file_extension": ".py",
   "mimetype": "text/x-python",
   "name": "python",
   "nbconvert_exporter": "python",
   "pygments_lexer": "ipython3",
   "version": "3.6.4"
  }
 },
 "nbformat": 4,
 "nbformat_minor": 2
}
