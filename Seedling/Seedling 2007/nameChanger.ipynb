{
 "cells": [
  {
   "cell_type": "code",
   "execution_count": 2,
   "metadata": {},
   "outputs": [
    {
     "name": "stdout",
     "output_type": "stream",
     "text": [
      "['.ipynb_checkpoints', '1-large.jpg', '2-large.jpg', '3-large.jpg', '4-large.jpg', '5-large.jpg', '6-large.jpg', '7-large.jpg', '8-large.jpg', 'compressed', 'css', 'js', 'nameChanger.ipynb', 'pages', 'pics', 'slider.html']\n"
     ]
    }
   ],
   "source": [
    "import os\n",
    "files = os.listdir()\n",
    "new_name = \"\"\n",
    "sno = 1\n",
    "extension = \".jpg\"\n",
    "for file in files:\n",
    "    if(file.rfind('jpg')>0):\n",
    "        nn = str(sno)+new_name+extension\n",
    "        os.rename(file,nn)\n",
    "        sno = sno + 1\n",
    "print(files)"
   ]
  },
  {
   "cell_type": "code",
   "execution_count": null,
   "metadata": {},
   "outputs": [],
   "source": []
  }
 ],
 "metadata": {
  "kernelspec": {
   "display_name": "Python 3",
   "language": "python",
   "name": "python3"
  },
  "language_info": {
   "codemirror_mode": {
    "name": "ipython",
    "version": 3
   },
   "file_extension": ".py",
   "mimetype": "text/x-python",
   "name": "python",
   "nbconvert_exporter": "python",
   "pygments_lexer": "ipython3",
   "version": "3.6.4"
  }
 },
 "nbformat": 4,
 "nbformat_minor": 2
}
